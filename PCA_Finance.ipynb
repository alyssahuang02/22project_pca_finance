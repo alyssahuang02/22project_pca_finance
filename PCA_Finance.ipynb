{
 "cells": [
  {
   "cell_type": "code",
   "execution_count": null,
   "metadata": {},
   "outputs": [],
   "source": [
    "# Code based off of: https://blog.quantinsti.com/principal-component-analysis-trading/\n",
    "import yfinance as yf\n",
    "import pandas as pd\n",
    "stock_df = pd.read_csv('companylist.csv')\n",
    "print(len(stock_df))\n",
    "clean_df = pd.DataFrame()\n",
    "for i in range(len(stock_df)):\n",
    "    symbol = stock_df.iloc[i,0]\n",
    "    clean_df[symbol] = yf.download(symbol,'2018-1-1','2019-12-31')['Adj Close']"
   ]
  },
  {
   "cell_type": "code",
   "execution_count": 156,
   "metadata": {},
   "outputs": [
    {
     "data": {
      "text/plain": [
       "(75, 3099)"
      ]
     },
     "execution_count": 156,
     "metadata": {},
     "output_type": "execute_result"
    }
   ],
   "source": [
    "data = clean_df.dropna(axis='columns')\n",
    "data_daily_returns = data.pct_change()\n",
    "data_daily_returns.head()\n",
    "returns = data_daily_returns.dropna()\n",
    "returns.shape"
   ]
  },
  {
   "cell_type": "code",
   "execution_count": 153,
   "metadata": {},
   "outputs": [
    {
     "name": "stdout",
     "output_type": "stream",
     "text": [
      "[0.48172289 0.03515548 0.02783059]\n"
     ]
    }
   ],
   "source": [
    "from sklearn.decomposition import PCA\n",
    "N_PRINCIPAL_COMPONENTS = 3\n",
    "pca = PCA(n_components=N_PRINCIPAL_COMPONENTS)\n",
    "result = pca.fit(returns)\n",
    "ratios = result.explained_variance_ratio_\n",
    "print(ratios)\n",
    "three1 = ratios[:3]"
   ]
  },
  {
   "cell_type": "code",
   "execution_count": 154,
   "metadata": {},
   "outputs": [
    {
     "name": "stdout",
     "output_type": "stream",
     "text": [
      "0.4861212722558496\n",
      "0.03532836872295364\n",
      "0.02798598840349062\n"
     ]
    }
   ],
   "source": [
    "import numpy as np\n",
    "\n",
    "temp = returns.mean(axis=0)\n",
    "mean = []\n",
    "normalized = []\n",
    "for i in range(len(temp)):\n",
    "    mean.append(temp[i])\n",
    "\n",
    "for i in range(len(returns)):\n",
    "    normalized.append([r - m for r, m in zip(returns.iloc[i,:], mean)])\n",
    "\n",
    "covariance = np.cov(normalized)\n",
    "\n",
    "from numpy import linalg as LA\n",
    "vals,vecs = LA.eig(covariance)\n",
    "eigens = {}\n",
    "vals_sum = 0\n",
    "for i in range(len(vals)):\n",
    "    eigens[vals[i]] = vecs[i]\n",
    "    vals_sum += vals[i]\n",
    "vals = np.sort(vals)\n",
    "# sorted from smallest to largest\n",
    "print(vals[len(vals)-1]/vals_sum)\n",
    "print(vals[len(vals)-2]/vals_sum)\n",
    "print(vals[len(vals)-3]/vals_sum)\n",
    "three2 = [vals[len(vals)-1]/vals_sum, vals[len(vals)-2]/vals_sum, vals[len(vals)-3]/vals_sum]"
   ]
  },
  {
   "cell_type": "code",
   "execution_count": 155,
   "metadata": {},
   "outputs": [
    {
     "data": {
      "image/png": "[encoded data removed]",
      "text/plain": [
       "<Figure size 432x288 with 1 Axes>"
      ]
     },
     "metadata": {
      "needs_background": "light"
     },
     "output_type": "display_data"
    }
   ],
   "source": [
    "import matplotlib.pyplot as plt\n",
    "\n",
    "tot = [three1, three2]\n",
    "\n",
    "#fig1 = plt.figure()\n",
    "#ax = fig1.add_axes([0,0,1,1])\n",
    "#PCs = ['PC1', 'PC2', 'PC3']\n",
    "#ax.bar(PCs, three1)\n",
    "#plt.show()\n",
    "\n",
    "#fig2 = plt.figure()\n",
    "#ax = fig2.add_axes([0,0,1,1])\n",
    "#PCs = ['PC1', 'PC2', 'PC3']\n",
    "#ax.bar(PCs, three2)\n",
    "#plt.show()\n",
    "\n",
    "fig1 = plt.figure()\n",
    "ax = fig1.add_axes([0,0,1,1])\n",
    "PCs = ['PC1', 'PC2', 'PC3']\n",
    "X = np.arange(3)\n",
    "ax.bar(PCs, tot[0], width = 0.26, align = 'edge')\n",
    "ax.bar(PCs, tot[1], width = 0.18, align = 'center')\n",
    "ax.legend(['Sklearn', 'NumPy'])\n",
    "plt.show()"
   ]
  },
  {
   "cell_type": "code",
   "execution_count": 158,
   "metadata": {},
   "outputs": [
    {
     "name": "stdout",
     "output_type": "stream",
     "text": [
      "(75,)\n"
     ]
    }
   ],
   "source": [
    "print(vecs[len(vals)-1].shape)"
   ]
  },
  {
   "cell_type": "code",
   "execution_count": null,
   "metadata": {},
   "outputs": [],
   "source": []
  }
 ],
 "metadata": {
  "kernelspec": {
   "display_name": "Python 3",
   "language": "python",
   "name": "python3"
  },
  "language_info": {
   "codemirror_mode": {
    "name": "ipython",
    "version": 3
   },
   "file_extension": ".py",
   "mimetype": "text/x-python",
   "name": "python",
   "nbconvert_exporter": "python",
   "pygments_lexer": "ipython3",
   "version": "3.8.3"
  }
 },
 "nbformat": 4,
 "nbformat_minor": 4
}
